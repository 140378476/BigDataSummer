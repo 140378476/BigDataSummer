{
 "cells": [
  {
   "cell_type": "code",
   "execution_count": 59,
   "metadata": {
    "collapsed": true
   },
   "outputs": [],
   "source": [
    "import pandas as pd\n",
    "from pandas import DataFrame\n",
    "from scipy.stats import ttest_ind\n",
    "\n",
    "\n",
    "train_data_path = \"训练集.xlsx\"\n",
    "train_label_path = \"训练集类别.csv\"\n",
    "\n",
    "test_data_path = \"验证集.xlsx\"\n",
    "test_label_path = \"验证结果.csv\""
   ]
  },
  {
   "cell_type": "code",
   "execution_count": 81,
   "outputs": [],
   "source": [
    "def loadData(path):\n",
    "    df = pd.read_excel(path, header=None, index_col=None)\n",
    "    df = pd.DataFrame(df.values[:, 1:].T, columns=df[0])\n",
    "    return df\n",
    "\n",
    "def loadTrainData():\n",
    "    df = loadData(train_data_path)\n",
    "    df = df.drop(\"Gene_ID\", axis=1)\n",
    "    labels = pd.read_csv(train_label_path)\n",
    "    labels = labels.drop('Sample', axis=1)\n",
    "    return df.join(labels)\n",
    "\n",
    "\n",
    "\n",
    "def tTestSelection(df: DataFrame):\n",
    "    g = df.groupby(\"Class\")\n",
    "    columns = list(df.columns)\n",
    "    columns.remove(\"Class\")\n",
    "    t_values = []\n",
    "    for name in columns:\n",
    "        l = g[name].apply(lambda x: list(x))\n",
    "        (t, p) = ttest_ind(*l)\n",
    "        t_values.append((name, t))\n",
    "    t_values.sort(key=lambda x: x[1], reverse=True)\n",
    "    return t_values"
   ],
   "metadata": {
    "collapsed": false,
    "pycharm": {
     "name": "#%%\n"
    }
   }
  },
  {
   "cell_type": "code",
   "execution_count": 3,
   "outputs": [],
   "source": [
    "data = loadTrainData()"
   ],
   "metadata": {
    "collapsed": false,
    "pycharm": {
     "name": "#%%\n"
    }
   }
  },
  {
   "cell_type": "code",
   "execution_count": 16,
   "outputs": [
    {
     "data": {
      "text/plain": "(164, 10708)"
     },
     "execution_count": 16,
     "metadata": {},
     "output_type": "execute_result"
    }
   ],
   "source": [
    "data.shape"
   ],
   "metadata": {
    "collapsed": false,
    "pycharm": {
     "name": "#%%\n"
    }
   }
  },
  {
   "cell_type": "code",
   "execution_count": 25,
   "outputs": [],
   "source": [
    "t_values = tTestSelection(data)"
   ],
   "metadata": {
    "collapsed": false,
    "pycharm": {
     "name": "#%%\n"
    }
   }
  },
  {
   "cell_type": "code",
   "execution_count": 34,
   "outputs": [
    {
     "data": {
      "text/plain": "['A_24_P500584_SpotID_3653799',\n 'Hs456200.1_SpotID_3659465',\n 'A_23_P125519_SpotID_3658212',\n 'A_23_P315345_SpotID_3653219',\n 'A_24_P237389_SpotID_3662821',\n 'A_23_P217409_SpotID_3656884',\n 'A_24_P134653_SpotID_3660765',\n 'A_23_P148255_SpotID_3653391',\n 'Hs290759.1_SpotID_3660024',\n 'A_24_P79529_SpotID_3661402']"
     },
     "execution_count": 34,
     "metadata": {},
     "output_type": "execute_result"
    }
   ],
   "source": [
    "N = 10\n",
    "\n",
    "selected_column_names = [name for (name,t) in t_values[:N]]\n",
    "selected_column_names"
   ],
   "metadata": {
    "collapsed": false,
    "pycharm": {
     "name": "#%%\n"
    }
   }
  },
  {
   "cell_type": "code",
   "execution_count": 35,
   "outputs": [],
   "source": [
    "df = data[selected_column_names]\n",
    "labels = data['Class']"
   ],
   "metadata": {
    "collapsed": false,
    "pycharm": {
     "name": "#%%\n"
    }
   }
  },
  {
   "cell_type": "code",
   "execution_count": 36,
   "outputs": [
    {
     "data": {
      "text/plain": "    A_24_P500584_SpotID_3653799 Hs456200.1_SpotID_3659465  \\\n0                         0.705                    -0.117   \n1                          1.66                     0.536   \n2                         -5.47                      -0.1   \n3                           1.4                     0.163   \n4                         -6.05                    -0.318   \n..                          ...                       ...   \n159                        2.05                     0.888   \n160                       -5.19                    0.0976   \n161                       -4.83                   -0.0189   \n162                       -5.85                    -0.238   \n163                        1.34                     0.678   \n\n    A_23_P125519_SpotID_3658212 A_23_P315345_SpotID_3653219  \\\n0                        -0.429                      -0.141   \n1                          1.14                       0.176   \n2                        -0.573                      0.0704   \n3                         0.614                       0.163   \n4                        -0.186                      0.0286   \n..                          ...                         ...   \n159                        0.39                       0.189   \n160                     -0.0277                      -0.786   \n161                      -0.353                      -0.157   \n162                      0.0566                      -0.902   \n163                       0.299                       0.251   \n\n    A_24_P237389_SpotID_3662821 A_23_P217409_SpotID_3656884  \\\n0                       -0.0801                      -0.114   \n1                         0.595                       0.189   \n2                        -0.199                      -0.255   \n3                        0.0144                       0.151   \n4                        -0.186                     -0.0365   \n..                          ...                         ...   \n159                       0.202                       0.275   \n160                      0.0841                      -0.276   \n161                      0.0426                      -0.496   \n162                      -0.139                      0.0704   \n163                       0.604                    -0.00578   \n\n    A_24_P134653_SpotID_3660765 A_23_P148255_SpotID_3653391  \\\n0                        -0.141                       -1.11   \n1                         0.227                       -2.47   \n2                        -0.655                       -1.91   \n3                         0.757                       -2.14   \n4                         0.176                       0.651   \n..                          ...                         ...   \n159                       0.263                        -1.4   \n160                      -0.523                       -3.63   \n161                      -0.527                       -2.37   \n162                       0.189                       -2.83   \n163                       0.263                       -2.27   \n\n    Hs290759.1_SpotID_3660024 A_24_P79529_SpotID_3661402  \n0                       0.214                     -0.711  \n1                       0.322                     -0.927  \n2                      0.0566                      -1.24  \n3                     -0.0544                     -0.986  \n4                       -0.47                      0.872  \n..                        ...                        ...  \n159                     0.275                     -0.552  \n160                     0.251                      -1.62  \n161                     0.124                      -1.25  \n162                   -0.0893                       -1.6  \n163                    -0.038                      -1.41  \n\n[164 rows x 10 columns]",
      "text/html": "<div>\n<style scoped>\n    .dataframe tbody tr th:only-of-type {\n        vertical-align: middle;\n    }\n\n    .dataframe tbody tr th {\n        vertical-align: top;\n    }\n\n    .dataframe thead th {\n        text-align: right;\n    }\n</style>\n<table border=\"1\" class=\"dataframe\">\n  <thead>\n    <tr style=\"text-align: right;\">\n      <th></th>\n      <th>A_24_P500584_SpotID_3653799</th>\n      <th>Hs456200.1_SpotID_3659465</th>\n      <th>A_23_P125519_SpotID_3658212</th>\n      <th>A_23_P315345_SpotID_3653219</th>\n      <th>A_24_P237389_SpotID_3662821</th>\n      <th>A_23_P217409_SpotID_3656884</th>\n      <th>A_24_P134653_SpotID_3660765</th>\n      <th>A_23_P148255_SpotID_3653391</th>\n      <th>Hs290759.1_SpotID_3660024</th>\n      <th>A_24_P79529_SpotID_3661402</th>\n    </tr>\n  </thead>\n  <tbody>\n    <tr>\n      <th>0</th>\n      <td>0.705</td>\n      <td>-0.117</td>\n      <td>-0.429</td>\n      <td>-0.141</td>\n      <td>-0.0801</td>\n      <td>-0.114</td>\n      <td>-0.141</td>\n      <td>-1.11</td>\n      <td>0.214</td>\n      <td>-0.711</td>\n    </tr>\n    <tr>\n      <th>1</th>\n      <td>1.66</td>\n      <td>0.536</td>\n      <td>1.14</td>\n      <td>0.176</td>\n      <td>0.595</td>\n      <td>0.189</td>\n      <td>0.227</td>\n      <td>-2.47</td>\n      <td>0.322</td>\n      <td>-0.927</td>\n    </tr>\n    <tr>\n      <th>2</th>\n      <td>-5.47</td>\n      <td>-0.1</td>\n      <td>-0.573</td>\n      <td>0.0704</td>\n      <td>-0.199</td>\n      <td>-0.255</td>\n      <td>-0.655</td>\n      <td>-1.91</td>\n      <td>0.0566</td>\n      <td>-1.24</td>\n    </tr>\n    <tr>\n      <th>3</th>\n      <td>1.4</td>\n      <td>0.163</td>\n      <td>0.614</td>\n      <td>0.163</td>\n      <td>0.0144</td>\n      <td>0.151</td>\n      <td>0.757</td>\n      <td>-2.14</td>\n      <td>-0.0544</td>\n      <td>-0.986</td>\n    </tr>\n    <tr>\n      <th>4</th>\n      <td>-6.05</td>\n      <td>-0.318</td>\n      <td>-0.186</td>\n      <td>0.0286</td>\n      <td>-0.186</td>\n      <td>-0.0365</td>\n      <td>0.176</td>\n      <td>0.651</td>\n      <td>-0.47</td>\n      <td>0.872</td>\n    </tr>\n    <tr>\n      <th>...</th>\n      <td>...</td>\n      <td>...</td>\n      <td>...</td>\n      <td>...</td>\n      <td>...</td>\n      <td>...</td>\n      <td>...</td>\n      <td>...</td>\n      <td>...</td>\n      <td>...</td>\n    </tr>\n    <tr>\n      <th>159</th>\n      <td>2.05</td>\n      <td>0.888</td>\n      <td>0.39</td>\n      <td>0.189</td>\n      <td>0.202</td>\n      <td>0.275</td>\n      <td>0.263</td>\n      <td>-1.4</td>\n      <td>0.275</td>\n      <td>-0.552</td>\n    </tr>\n    <tr>\n      <th>160</th>\n      <td>-5.19</td>\n      <td>0.0976</td>\n      <td>-0.0277</td>\n      <td>-0.786</td>\n      <td>0.0841</td>\n      <td>-0.276</td>\n      <td>-0.523</td>\n      <td>-3.63</td>\n      <td>0.251</td>\n      <td>-1.62</td>\n    </tr>\n    <tr>\n      <th>161</th>\n      <td>-4.83</td>\n      <td>-0.0189</td>\n      <td>-0.353</td>\n      <td>-0.157</td>\n      <td>0.0426</td>\n      <td>-0.496</td>\n      <td>-0.527</td>\n      <td>-2.37</td>\n      <td>0.124</td>\n      <td>-1.25</td>\n    </tr>\n    <tr>\n      <th>162</th>\n      <td>-5.85</td>\n      <td>-0.238</td>\n      <td>0.0566</td>\n      <td>-0.902</td>\n      <td>-0.139</td>\n      <td>0.0704</td>\n      <td>0.189</td>\n      <td>-2.83</td>\n      <td>-0.0893</td>\n      <td>-1.6</td>\n    </tr>\n    <tr>\n      <th>163</th>\n      <td>1.34</td>\n      <td>0.678</td>\n      <td>0.299</td>\n      <td>0.251</td>\n      <td>0.604</td>\n      <td>-0.00578</td>\n      <td>0.263</td>\n      <td>-2.27</td>\n      <td>-0.038</td>\n      <td>-1.41</td>\n    </tr>\n  </tbody>\n</table>\n<p>164 rows × 10 columns</p>\n</div>"
     },
     "execution_count": 36,
     "metadata": {},
     "output_type": "execute_result"
    }
   ],
   "source": [
    "df"
   ],
   "metadata": {
    "collapsed": false,
    "pycharm": {
     "name": "#%%\n"
    }
   }
  },
  {
   "cell_type": "code",
   "execution_count": 37,
   "outputs": [
    {
     "data": {
      "text/plain": "0      NEPSneg\n1      NEPSneg\n2      NEPSpos\n3      NEPSneg\n4      NEPSpos\n        ...   \n159    NEPSneg\n160    NEPSpos\n161    NEPSpos\n162    NEPSpos\n163    NEPSpos\nName: Class, Length: 164, dtype: object"
     },
     "execution_count": 37,
     "metadata": {},
     "output_type": "execute_result"
    }
   ],
   "source": [
    "labels"
   ],
   "metadata": {
    "collapsed": false,
    "pycharm": {
     "name": "#%%\n"
    }
   }
  },
  {
   "cell_type": "code",
   "execution_count": 43,
   "outputs": [
    {
     "data": {
      "text/plain": "array([[ 2.77613152, -0.53774401],\n       [ 3.64619589, -2.11262968],\n       [-3.42472393, -0.12628388],\n       [ 3.38142715, -1.75656403],\n       [-3.17926898,  3.19817283]])"
     },
     "execution_count": 43,
     "metadata": {},
     "output_type": "execute_result"
    }
   ],
   "source": [
    "from sklearn.decomposition import PCA\n",
    "\n",
    "pca = PCA(n_components=2)\n",
    "embedded = pca.fit_transform(df.values)\n",
    "embedded[:5]"
   ],
   "metadata": {
    "collapsed": false,
    "pycharm": {
     "name": "#%%\n"
    }
   }
  },
  {
   "cell_type": "code",
   "execution_count": 39,
   "outputs": [
    {
     "data": {
      "text/plain": "<Figure size 432x288 with 1 Axes>",
      "image/png": "[encoded data removed]"
     },
     "metadata": {
      "needs_background": "light"
     },
     "output_type": "display_data"
    }
   ],
   "source": [
    "import matplotlib.pyplot as plt\n",
    "colormap = {\"NEPSneg\": \"r\",\"NEPSpos\" : \"b\"}\n",
    "colors = [colormap[c] for c in labels.values]\n",
    "\n",
    "plt.scatter(embedded[:,0],embedded[:,1],c=colors)\n",
    "plt.title(f\"PCA, selected {N} genes\")\n",
    "\n",
    "types = [plt.scatter([], [], color=c) for c in colormap.values()]\n",
    "names = [n for n in colormap.keys()]\n",
    "plt.legend(types, names, loc='best')\n",
    "\n",
    "plt.show()"
   ],
   "metadata": {
    "collapsed": false,
    "pycharm": {
     "name": "#%%\n"
    }
   }
  },
  {
   "cell_type": "code",
   "execution_count": 62,
   "outputs": [
    {
     "data": {
      "text/plain": "array([0, 0, 1, 0, 1, 1, 0, 1, 0, 1, 0, 1, 0, 1, 1, 0, 1, 1, 1, 1, 1, 1,\n       1, 1, 1, 0, 0, 0, 1, 0, 1, 0, 0, 0, 0, 0, 1, 1, 1, 0, 0, 1, 1, 1,\n       0, 0, 1, 0, 0, 1, 0, 1, 1, 1, 1, 1, 0, 0, 0, 0, 1, 1, 1, 0, 1, 0,\n       1, 0, 0, 1, 1, 0, 0, 1, 0, 0, 1, 1, 1, 1, 0, 0, 0, 1, 0, 0, 1, 1,\n       1, 1, 1, 1, 0, 1, 1, 0, 1, 1, 0, 0, 0, 1, 1, 0, 1, 1, 0, 0, 1, 0,\n       0, 1, 1, 1, 0, 0, 1, 1, 1, 0, 1, 0, 1, 1, 1, 0, 0, 1, 1, 1, 1, 0,\n       0, 0, 1, 1, 1, 1, 1, 0, 0, 0, 1, 0, 0, 0, 0, 0, 1, 0, 1, 1, 0, 0,\n       0, 1, 1, 0, 0, 0, 1, 1, 1, 1])"
     },
     "execution_count": 62,
     "metadata": {},
     "output_type": "execute_result"
    }
   ],
   "source": [
    "from sklearn import preprocessing\n",
    "X = df.values\n",
    "labelEncoder = preprocessing.LabelEncoder()\n",
    "y = labelEncoder.fit_transform(labels.values)\n",
    "y\n"
   ],
   "metadata": {
    "collapsed": false,
    "pycharm": {
     "name": "#%%\n"
    }
   }
  },
  {
   "cell_type": "code",
   "execution_count": 63,
   "outputs": [
    {
     "data": {
      "text/plain": "0.9646637514125643"
     },
     "execution_count": 63,
     "metadata": {},
     "output_type": "execute_result"
    }
   ],
   "source": [
    "from sklearn import svm\n",
    "from sklearn.model_selection import cross_validate\n",
    "from sklearn.metrics import matthews_corrcoef\n",
    "from sklearn.metrics import make_scorer\n",
    "import numpy as np\n",
    "model = svm.SVC(C=1)\n",
    "scorer = make_scorer(matthews_corrcoef)\n",
    "results = cross_validate(model,X,y,scoring=scorer,cv=5)\n",
    "scores = results['test_score']\n",
    "score = np.average(scores)\n",
    "print(\"Score = \",score)"
   ],
   "metadata": {
    "collapsed": false,
    "pycharm": {
     "name": "#%%\n"
    }
   }
  },
  {
   "cell_type": "code",
   "execution_count": 65,
   "outputs": [
    {
     "data": {
      "text/plain": "SVC(C=1)"
     },
     "execution_count": 65,
     "metadata": {},
     "output_type": "execute_result"
    }
   ],
   "source": [
    "model.fit(X,y)"
   ],
   "metadata": {
    "collapsed": false,
    "pycharm": {
     "name": "#%%\n"
    }
   }
  },
  {
   "cell_type": "code",
   "execution_count": 82,
   "outputs": [
    {
     "data": {
      "text/plain": "(82, 10708)"
     },
     "execution_count": 82,
     "metadata": {},
     "output_type": "execute_result"
    }
   ],
   "source": [
    "data_test = loadData(test_data_path)\n",
    "data_test.shape"
   ],
   "metadata": {
    "collapsed": false,
    "pycharm": {
     "name": "#%%\n"
    }
   }
  },
  {
   "cell_type": "code",
   "execution_count": 83,
   "outputs": [],
   "source": [
    "df = data_test[selected_column_names]"
   ],
   "metadata": {
    "collapsed": false,
    "pycharm": {
     "name": "#%%\n"
    }
   }
  },
  {
   "cell_type": "code",
   "execution_count": 88,
   "outputs": [
    {
     "data": {
      "text/plain": "array(['NEPSneg', 'NEPSneg', 'NEPSneg', 'NEPSneg', 'NEPSneg', 'NEPSpos',\n       'NEPSpos', 'NEPSneg', 'NEPSpos', 'NEPSneg', 'NEPSpos', 'NEPSpos',\n       'NEPSpos', 'NEPSneg', 'NEPSpos', 'NEPSpos', 'NEPSpos', 'NEPSpos',\n       'NEPSpos', 'NEPSpos', 'NEPSneg', 'NEPSpos', 'NEPSpos', 'NEPSpos',\n       'NEPSpos', 'NEPSpos', 'NEPSpos', 'NEPSpos', 'NEPSpos', 'NEPSpos',\n       'NEPSpos', 'NEPSpos', 'NEPSpos', 'NEPSneg', 'NEPSpos', 'NEPSpos',\n       'NEPSpos', 'NEPSneg', 'NEPSneg', 'NEPSpos', 'NEPSpos', 'NEPSneg',\n       'NEPSneg', 'NEPSneg', 'NEPSpos', 'NEPSpos', 'NEPSpos', 'NEPSneg',\n       'NEPSneg', 'NEPSpos', 'NEPSneg', 'NEPSpos', 'NEPSpos', 'NEPSneg',\n       'NEPSneg', 'NEPSpos', 'NEPSpos', 'NEPSneg', 'NEPSpos', 'NEPSpos',\n       'NEPSpos', 'NEPSpos', 'NEPSpos', 'NEPSpos', 'NEPSpos', 'NEPSneg',\n       'NEPSneg', 'NEPSpos', 'NEPSpos', 'NEPSpos', 'NEPSneg', 'NEPSpos',\n       'NEPSpos', 'NEPSneg', 'NEPSpos', 'NEPSpos', 'NEPSneg', 'NEPSpos',\n       'NEPSpos', 'NEPSneg', 'NEPSpos', 'NEPSpos'], dtype=object)"
     },
     "execution_count": 88,
     "metadata": {},
     "output_type": "execute_result"
    }
   ],
   "source": [
    "prediction = model.predict(df.values)\n",
    "prediction = labelEncoder.inverse_transform(prediction)"
   ],
   "metadata": {
    "collapsed": false,
    "pycharm": {
     "name": "#%%\n"
    }
   }
  },
  {
   "cell_type": "code",
   "execution_count": 89,
   "outputs": [
    {
     "data": {
      "text/plain": "0         Gene_ID     pred\n0   A251271410507  NEPSneg\n1   A251271410521  NEPSneg\n2   A251271410522  NEPSneg\n3   A251271410523  NEPSneg\n4   A251271410524  NEPSneg\n..            ...      ...\n77  A251271410649  NEPSpos\n78  A251271410650  NEPSpos\n79  A251271410651  NEPSneg\n80  A251271410652  NEPSpos\n81  A251271410653  NEPSpos\n\n[82 rows x 2 columns]",
      "text/html": "<div>\n<style scoped>\n    .dataframe tbody tr th:only-of-type {\n        vertical-align: middle;\n    }\n\n    .dataframe tbody tr th {\n        vertical-align: top;\n    }\n\n    .dataframe thead th {\n        text-align: right;\n    }\n</style>\n<table border=\"1\" class=\"dataframe\">\n  <thead>\n    <tr style=\"text-align: right;\">\n      <th></th>\n      <th>Gene_ID</th>\n      <th>pred</th>\n    </tr>\n  </thead>\n  <tbody>\n    <tr>\n      <th>0</th>\n      <td>A251271410507</td>\n      <td>NEPSneg</td>\n    </tr>\n    <tr>\n      <th>1</th>\n      <td>A251271410521</td>\n      <td>NEPSneg</td>\n    </tr>\n    <tr>\n      <th>2</th>\n      <td>A251271410522</td>\n      <td>NEPSneg</td>\n    </tr>\n    <tr>\n      <th>3</th>\n      <td>A251271410523</td>\n      <td>NEPSneg</td>\n    </tr>\n    <tr>\n      <th>4</th>\n      <td>A251271410524</td>\n      <td>NEPSneg</td>\n    </tr>\n    <tr>\n      <th>...</th>\n      <td>...</td>\n      <td>...</td>\n    </tr>\n    <tr>\n      <th>77</th>\n      <td>A251271410649</td>\n      <td>NEPSpos</td>\n    </tr>\n    <tr>\n      <th>78</th>\n      <td>A251271410650</td>\n      <td>NEPSpos</td>\n    </tr>\n    <tr>\n      <th>79</th>\n      <td>A251271410651</td>\n      <td>NEPSneg</td>\n    </tr>\n    <tr>\n      <th>80</th>\n      <td>A251271410652</td>\n      <td>NEPSpos</td>\n    </tr>\n    <tr>\n      <th>81</th>\n      <td>A251271410653</td>\n      <td>NEPSpos</td>\n    </tr>\n  </tbody>\n</table>\n<p>82 rows × 2 columns</p>\n</div>"
     },
     "execution_count": 89,
     "metadata": {},
     "output_type": "execute_result"
    }
   ],
   "source": [
    "df_result = data_test[['Gene_ID']].copy()\n",
    "df_result['pred'] = prediction\n",
    "df_result"
   ],
   "metadata": {
    "collapsed": false,
    "pycharm": {
     "name": "#%%\n"
    }
   }
  },
  {
   "cell_type": "code",
   "execution_count": 90,
   "outputs": [],
   "source": [
    "df_result.to_csv(test_label_path,index=None)"
   ],
   "metadata": {
    "collapsed": false,
    "pycharm": {
     "name": "#%%\n"
    }
   }
  }
 ],
 "metadata": {
  "kernelspec": {
   "display_name": "Python 3",
   "language": "python",
   "name": "python3"
  },
  "language_info": {
   "codemirror_mode": {
    "name": "ipython",
    "version": 2
   },
   "file_extension": ".py",
   "mimetype": "text/x-python",
   "name": "python",
   "nbconvert_exporter": "python",
   "pygments_lexer": "ipython2",
   "version": "2.7.6"
  }
 },
 "nbformat": 4,
 "nbformat_minor": 0
}